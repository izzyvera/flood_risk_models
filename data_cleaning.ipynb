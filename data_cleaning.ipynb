{
 "cells": [
  {
   "cell_type": "code",
   "execution_count": 363,
   "metadata": {},
   "outputs": [],
   "source": [
    "import numpy as np\n",
    "import pandas as pd\n",
    "data = pd.read_csv(\"USGS Current Conditions for USGS 05082500 RED RIVER OF THE NORTH AT GRAND FORKS, ND.csv\")"
   ]
  },
  {
   "cell_type": "code",
   "execution_count": 364,
   "metadata": {},
   "outputs": [],
   "source": [
    "from datetime import datetime \n",
    "data['Date'] = data['Date'].apply(lambda x: datetime.strptime(x, '%m/%d/%Y'))\n",
    "data = data[(data['Date'] >= datetime(2007, 5, 11)) & (data['Date'] <= datetime(2019, 4, 22))]\n",
    "data = data.fillna(method = 'backfill')"
   ]
  },
  {
   "cell_type": "code",
   "execution_count": 365,
   "metadata": {
    "code_folding": [
     14,
     19
    ]
   },
   "outputs": [],
   "source": [
    "import re\n",
    "def str2float(s):\n",
    "    pattern = r'^-?\\d*,?\\d*\\.?\\d*'\n",
    "    result = re.findall(pattern, s)[0]\n",
    "    if result:\n",
    "        if result.find(\",\") == -1:\n",
    "            value = float(result)\n",
    "        else:\n",
    "            value = float(result.replace(\",\", \"\"))\n",
    "    else:\n",
    "        value = 'st'\n",
    "    return value\n",
    "        \n",
    "def process_decimal(s):\n",
    "    pattern = r'^-?\\d*\\.?\\d*'\n",
    "    result = re.findall(string = s, pattern = pattern)[0]\n",
    "    value = float(result)\n",
    "    return value\n",
    "def process_thousand(s):\n",
    "    pattern = r'^\\d*,?\\d*'\n",
    "    result = re.findall(string = s, pattern = pattern)\n",
    "    if result:\n",
    "        result = result[0]\n",
    "        if result.find(\",\") == -1:\n",
    "            value = float(result)\n",
    "        else:\n",
    "            value = float(result.replace(\",\", \"\"))\n",
    "    else:\n",
    "        value = 'iceP'\n",
    "    return value"
   ]
  },
  {
   "cell_type": "code",
   "execution_count": 366,
   "metadata": {
    "scrolled": true
   },
   "outputs": [
    {
     "name": "stdout",
     "output_type": "stream",
     "text": [
      "Turbidity (Minimum)\n",
      "Turbidity (Minimum)\n",
      "Turbidity (Mean)\n",
      "Turbidity (Mean)\n",
      "Turbidity (Maximum)\n",
      "Turbidity (Maximum)\n",
      "Discharge (Mean)\n",
      "Discharge (Mean)\n",
      "Gage height (Mean)\n",
      "Gage height (Mean)\n",
      "Water temperature (Maximum)\n",
      "Water temperature (Maximum)\n",
      "Water temperature (Minimum)\n",
      "Water temperature (Minimum)\n",
      "Water temperature (Mean)\n",
      "Water temperature (Mean)\n",
      "Specific\n",
      "conductance (Maximum)\n",
      "Specific\n",
      "conductance (Maximum)\n",
      "Specific\n",
      "conductance (Minimum)\n",
      "Specific\n",
      "conductance (Minimum)\n",
      "Specific\n",
      "conductance (Mean)\n",
      "Specific\n",
      "conductance (Mean)\n",
      "Dissolved\n",
      "oxygen (Maximum)\n",
      "Dissolved\n",
      "oxygen (Maximum)\n",
      "Dissolved\n",
      "oxygen (Minimum)\n",
      "Dissolved\n",
      "oxygen (Minimum)\n",
      "Dissolved\n",
      "oxygen (Mean)\n",
      "Dissolved\n",
      "oxygen (Mean)\n",
      "Water pH (Maximum)\n",
      "Water pH (Maximum)\n",
      "Water pH (Minimum)\n",
      "Water pH (Minimum)\n",
      "Water pH (Median)\n",
      "Water pH (Median)\n"
     ]
    }
   ],
   "source": [
    "for col in data.columns[1:]:\n",
    "    print(col)\n",
    "    data[col] = data[col].apply(str2float)\n",
    "    print(col)"
   ]
  },
  {
   "cell_type": "code",
   "execution_count": null,
   "metadata": {},
   "outputs": [],
   "source": [
    "# 05054000 2012-12-4 2013-4-26\n",
    "# 05082500 2012-12-6 2013-4-28"
   ]
  },
  {
   "cell_type": "code",
   "execution_count": 368,
   "metadata": {
    "scrolled": true
   },
   "outputs": [],
   "source": [
    "iceP = data[data['Discharge (Mean)'] == 'st']['Discharge (Mean)']\n",
    "sim = data[(data['Date'] >= datetime(2012, 12, 6)) & (data['Date'] <= datetime(2013, 4, 28))]['Discharge (Mean)']"
   ]
  },
  {
   "cell_type": "code",
   "execution_count": 369,
   "metadata": {},
   "outputs": [],
   "source": [
    "data = data.replace(['st']*len(iceP), sim)\n",
    "data['Flood type'] = np.where(data['Gage height (Mean)'] < 28, 0,\n",
    "                             np.where(data['Gage height (Mean)'] < 40, 1,\n",
    "                                     np.where(data['Gage height (Mean)'] < 46, 2, 3)))\n",
    "data['Is major'] = np.where(data['Gage height (Mean)'] < 46, 0, 1)\n",
    "data['month'] = data['Date']"
   ]
  },
  {
   "cell_type": "code",
   "execution_count": null,
   "metadata": {},
   "outputs": [],
   "source": []
  },
  {
   "cell_type": "code",
   "execution_count": 21,
   "metadata": {},
   "outputs": [],
   "source": [
    "import pandas as pd\n",
    "from datetime import datetime\n",
    "s1 = pd.read_csv(\"05054000.csv\")\n",
    "s2 = pd.read_csv(\"05082500.csv\")"
   ]
  },
  {
   "cell_type": "code",
   "execution_count": 23,
   "metadata": {},
   "outputs": [],
   "source": [
    "s1['Date'] = s1['Date'].apply(lambda x: datetime.strptime(x, '%m/%d/%Y'))\n",
    "s2['Date'] = s2['Date'].apply(lambda x: datetime.strptime(x, '%m/%d/%Y'))"
   ]
  },
  {
   "cell_type": "code",
   "execution_count": 22,
   "metadata": {
    "scrolled": true
   },
   "outputs": [],
   "source": [
    "s1['Severity'] = np.where(s1['Gage height (Mean)'] <= 25, 0 ,1)\n",
    "s2['Severity'] = np.where(s2['Gage height (Mean)'] <= 40, 0 ,1)"
   ]
  },
  {
   "cell_type": "code",
   "execution_count": 28,
   "metadata": {},
   "outputs": [],
   "source": [
    "s1['Month'] = s1['Date'].apply(lambda x: x.month)\n",
    "s2['Month'] = s2['Date'].apply(lambda x: x.month)"
   ]
  },
  {
   "cell_type": "code",
   "execution_count": 33,
   "metadata": {},
   "outputs": [],
   "source": [
    "s1.to_csv(\"05054000.csv\")\n",
    "s2.to_csv(\"05082500.csv\")\n",
    "s1.append(s2).to_csv(\"05054000+05082500.csv\")"
   ]
  },
  {
   "cell_type": "code",
   "execution_count": null,
   "metadata": {},
   "outputs": [],
   "source": []
  },
  {
   "cell_type": "code",
   "execution_count": 7,
   "metadata": {},
   "outputs": [],
   "source": [
    "import numpy as np\n",
    "import pandas as pd"
   ]
  },
  {
   "cell_type": "code",
   "execution_count": 14,
   "metadata": {},
   "outputs": [],
   "source": [
    "df = pd.read_csv(\"05054000+05082500_new_predict_1.csv\")"
   ]
  },
  {
   "cell_type": "code",
   "execution_count": 15,
   "metadata": {},
   "outputs": [],
   "source": [
    "from datetime import datetime \n",
    "df['Date'] = df['Date'].apply(lambda x: datetime.strptime(x, '%m/%d/%Y'))"
   ]
  },
  {
   "cell_type": "code",
   "execution_count": 26,
   "metadata": {},
   "outputs": [],
   "source": [
    "def flood_season(t):\n",
    "    if t.month < 9:\n",
    "        return t\n",
    "    else:\n",
    "        return np.nan\n",
    "df['Date'] = df['Date'].apply(flood_season)"
   ]
  },
  {
   "cell_type": "code",
   "execution_count": 32,
   "metadata": {
    "scrolled": false
   },
   "outputs": [],
   "source": [
    "df = df.dropna()"
   ]
  },
  {
   "cell_type": "code",
   "execution_count": 37,
   "metadata": {},
   "outputs": [],
   "source": [
    "df.to_csv(\"05054000+05082500_new_predict_1.csv\")"
   ]
  }
 ],
 "metadata": {
  "kernelspec": {
   "display_name": "Python 3",
   "language": "python",
   "name": "python3"
  },
  "language_info": {
   "codemirror_mode": {
    "name": "ipython",
    "version": 3
   },
   "file_extension": ".py",
   "mimetype": "text/x-python",
   "name": "python",
   "nbconvert_exporter": "python",
   "pygments_lexer": "ipython3",
   "version": "3.6.6"
  },
  "varInspector": {
   "cols": {
    "lenName": 16,
    "lenType": 16,
    "lenVar": 40
   },
   "kernels_config": {
    "python": {
     "delete_cmd_postfix": "",
     "delete_cmd_prefix": "del ",
     "library": "var_list.py",
     "varRefreshCmd": "print(var_dic_list())"
    },
    "r": {
     "delete_cmd_postfix": ") ",
     "delete_cmd_prefix": "rm(",
     "library": "var_list.r",
     "varRefreshCmd": "cat(var_dic_list()) "
    }
   },
   "types_to_exclude": [
    "module",
    "function",
    "builtin_function_or_method",
    "instance",
    "_Feature"
   ],
   "window_display": false
  }
 },
 "nbformat": 4,
 "nbformat_minor": 2
}
